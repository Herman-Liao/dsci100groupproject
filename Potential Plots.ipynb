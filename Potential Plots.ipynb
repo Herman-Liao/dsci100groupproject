{
 "cells": [
  {
   "cell_type": "code",
   "execution_count": null,
   "metadata": {},
   "outputs": [],
   "source": [
    "library(tidyverse)\n",
    "library(gridExtra)"
   ]
  },
  {
   "cell_type": "code",
   "execution_count": null,
   "metadata": {},
   "outputs": [],
   "source": [
    "wine_data <- read_csv(\"https://archive.ics.uci.edu/ml/machine-learning-databases/wine/wine.data\", col_names = FALSE) %>%\n",
    "             mutate(X1 = as_factor(X1))"
   ]
  },
  {
   "cell_type": "code",
   "execution_count": null,
   "metadata": {},
   "outputs": [],
   "source": [
    "colnames(wine_data) <- c(\"class\", \"al\", \"acid\", \"ash\", \"alcalinity\", \"mg\", \"t_phenol\", \"flava\", \"non_f_phenol\", \"pro\", \"color\", \"hue\", \"od280\", \"proline\")"
   ]
  },
  {
   "cell_type": "code",
   "execution_count": null,
   "metadata": {},
   "outputs": [],
   "source": [
    "options(repr.plot.width = 16, repr.plot.height = 12)\n",
    "colnames(wine_data)"
   ]
  },
  {
   "cell_type": "code",
   "execution_count": null,
   "metadata": {},
   "outputs": [],
   "source": [
    "plot_hue_flava <- ggplot(wine_data, aes(x = hue, y = flava, color = class)) +\n",
    "                  geom_point(aes(color = class)) +\n",
    "                  labs(x = \"Hue\", y = \"Flava\", color = \"Class\") +\n",
    "                  ggtitle(\"Hue vs. Flava\") +\n",
    "                  theme(text = element_text(size = 20))"
   ]
  },
  {
   "cell_type": "code",
   "execution_count": null,
   "metadata": {},
   "outputs": [],
   "source": [
    "plot_hue_alcohol <- ggplot(wine_data, aes(x = hue, y = al, color = class)) +\n",
    "                    geom_point(aes(color = class)) +\n",
    "                    labs(x = \"Hue\", y = \"Alcohol\", color = \"Class\") +\n",
    "                    ggtitle(\"Hue vs. Alcohol\") +\n",
    "                    theme(text = element_text(size = 20))"
   ]
  },
  {
   "cell_type": "code",
   "execution_count": null,
   "metadata": {},
   "outputs": [],
   "source": [
    "plot_hue_proline <- ggplot(wine_data, aes(x = hue, y = proline, color = class)) +\n",
    "                    geom_point(aes(color = class)) +\n",
    "                    labs(x = \"Hue\", y = \"Proline\", color = \"Class\") +\n",
    "                    ggtitle(\"Hue vs. Proline\") +\n",
    "                    theme(text = element_text(size = 20))"
   ]
  },
  {
   "cell_type": "code",
   "execution_count": null,
   "metadata": {},
   "outputs": [],
   "source": [
    "plot_alcohol_flava <- ggplot(wine_data, aes(x = al, y = flava, color = class)) +\n",
    "                      geom_point(aes(color = class)) +\n",
    "                      labs(x = \"Alcohol\", y = \"Flava\", color = \"Class\") +\n",
    "                      ggtitle(\"Alcohol vs. Flava\") +\n",
    "                      theme(text = element_text(size = 20))"
   ]
  },
  {
   "cell_type": "code",
   "execution_count": null,
   "metadata": {},
   "outputs": [],
   "source": [
    "plot_alcohol_proline <- ggplot(wine_data, aes(x = al, y = proline, color = class)) +\n",
    "                        geom_point(aes(color = class)) +\n",
    "                        labs(x = \"Alcohol\", y = \"Proline\", color = \"Class\") +\n",
    "                        ggtitle(\"Alcohol vs. Proline\") +\n",
    "                        theme(text = element_text(size = 20))"
   ]
  },
  {
   "cell_type": "code",
   "execution_count": null,
   "metadata": {},
   "outputs": [],
   "source": [
    "plot_flava_proline <- ggplot(wine_data, aes(x = flava, y = proline, color = class)) +\n",
    "                      geom_point(aes(color = class)) +\n",
    "                      labs(x = \"Flava\", y = \"Proline\", color = \"Class\") +\n",
    "                      ggtitle(\"Flava vs. Proline\") +\n",
    "                      theme(text = element_text(size = 20))"
   ]
  },
  {
   "cell_type": "code",
   "execution_count": null,
   "metadata": {},
   "outputs": [],
   "source": [
    "grid.arrange(plot_hue_flava, plot_hue_alcohol, plot_hue_proline, plot_alcohol_flava, plot_alcohol_proline, plot_flava_proline, nrow = 3)"
   ]
  }
 ],
 "metadata": {
  "kernelspec": {
   "display_name": "R",
   "language": "R",
   "name": "ir"
  },
  "language_info": {
   "codemirror_mode": "r",
   "file_extension": ".r",
   "mimetype": "text/x-r-source",
   "name": "R",
   "pygments_lexer": "r",
   "version": "4.0.0"
  }
 },
 "nbformat": 4,
 "nbformat_minor": 4
}
