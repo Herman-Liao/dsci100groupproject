{
 "cells": [
  {
   "cell_type": "code",
   "execution_count": 1,
   "metadata": {},
   "outputs": [
    {
     "name": "stderr",
     "output_type": "stream",
     "text": [
      "── \u001b[1mAttaching packages\u001b[22m ─────────────────────────────────────── tidyverse 1.3.0 ──\n",
      "\n",
      "\u001b[32m✔\u001b[39m \u001b[34mggplot2\u001b[39m 3.3.2     \u001b[32m✔\u001b[39m \u001b[34mpurrr  \u001b[39m 0.3.4\n",
      "\u001b[32m✔\u001b[39m \u001b[34mtibble \u001b[39m 3.0.3     \u001b[32m✔\u001b[39m \u001b[34mdplyr  \u001b[39m 1.0.2\n",
      "\u001b[32m✔\u001b[39m \u001b[34mtidyr  \u001b[39m 1.1.2     \u001b[32m✔\u001b[39m \u001b[34mstringr\u001b[39m 1.4.0\n",
      "\u001b[32m✔\u001b[39m \u001b[34mreadr  \u001b[39m 1.3.1     \u001b[32m✔\u001b[39m \u001b[34mforcats\u001b[39m 0.5.0\n",
      "\n",
      "Warning message:\n",
      "“package ‘ggplot2’ was built under R version 4.0.1”\n",
      "Warning message:\n",
      "“package ‘tibble’ was built under R version 4.0.2”\n",
      "Warning message:\n",
      "“package ‘tidyr’ was built under R version 4.0.2”\n",
      "Warning message:\n",
      "“package ‘dplyr’ was built under R version 4.0.2”\n",
      "── \u001b[1mConflicts\u001b[22m ────────────────────────────────────────── tidyverse_conflicts() ──\n",
      "\u001b[31m✖\u001b[39m \u001b[34mdplyr\u001b[39m::\u001b[32mfilter()\u001b[39m masks \u001b[34mstats\u001b[39m::filter()\n",
      "\u001b[31m✖\u001b[39m \u001b[34mdplyr\u001b[39m::\u001b[32mlag()\u001b[39m    masks \u001b[34mstats\u001b[39m::lag()\n",
      "\n"
     ]
    }
   ],
   "source": [
    "library(tidyverse)"
   ]
  },
  {
   "cell_type": "code",
   "execution_count": 2,
   "metadata": {},
   "outputs": [
    {
     "name": "stderr",
     "output_type": "stream",
     "text": [
      "Parsed with column specification:\n",
      "cols(\n",
      "  age = \u001b[32mcol_double()\u001b[39m,\n",
      "  sex = \u001b[32mcol_double()\u001b[39m,\n",
      "  cp = \u001b[32mcol_double()\u001b[39m,\n",
      "  trestbps = \u001b[32mcol_double()\u001b[39m,\n",
      "  chol = \u001b[32mcol_double()\u001b[39m,\n",
      "  fbs = \u001b[32mcol_double()\u001b[39m,\n",
      "  restecg = \u001b[32mcol_double()\u001b[39m,\n",
      "  thalach = \u001b[32mcol_double()\u001b[39m,\n",
      "  exang = \u001b[32mcol_double()\u001b[39m,\n",
      "  oldpeak = \u001b[32mcol_double()\u001b[39m,\n",
      "  slope = \u001b[32mcol_double()\u001b[39m,\n",
      "  ca = \u001b[32mcol_double()\u001b[39m,\n",
      "  thal = \u001b[32mcol_double()\u001b[39m,\n",
      "  target = \u001b[32mcol_double()\u001b[39m\n",
      ")\n",
      "\n"
     ]
    }
   ],
   "source": [
    "heart_data <- read_csv(\"data/heart.csv\")"
   ]
  },
  {
   "cell_type": "code",
   "execution_count": 3,
   "metadata": {},
   "outputs": [
    {
     "data": {
      "text/html": [
       "<table>\n",
       "<caption>A tibble: 6 × 3</caption>\n",
       "<thead>\n",
       "\t<tr><th scope=col>age</th><th scope=col>chol</th><th scope=col>target</th></tr>\n",
       "\t<tr><th scope=col>&lt;dbl&gt;</th><th scope=col>&lt;dbl&gt;</th><th scope=col>&lt;dbl&gt;</th></tr>\n",
       "</thead>\n",
       "<tbody>\n",
       "\t<tr><td>63</td><td>233</td><td>1</td></tr>\n",
       "\t<tr><td>37</td><td>250</td><td>1</td></tr>\n",
       "\t<tr><td>41</td><td>204</td><td>1</td></tr>\n",
       "\t<tr><td>56</td><td>236</td><td>1</td></tr>\n",
       "\t<tr><td>57</td><td>354</td><td>1</td></tr>\n",
       "\t<tr><td>57</td><td>192</td><td>1</td></tr>\n",
       "</tbody>\n",
       "</table>\n"
      ],
      "text/latex": [
       "A tibble: 6 × 3\n",
       "\\begin{tabular}{lll}\n",
       " age & chol & target\\\\\n",
       " <dbl> & <dbl> & <dbl>\\\\\n",
       "\\hline\n",
       "\t 63 & 233 & 1\\\\\n",
       "\t 37 & 250 & 1\\\\\n",
       "\t 41 & 204 & 1\\\\\n",
       "\t 56 & 236 & 1\\\\\n",
       "\t 57 & 354 & 1\\\\\n",
       "\t 57 & 192 & 1\\\\\n",
       "\\end{tabular}\n"
      ],
      "text/markdown": [
       "\n",
       "A tibble: 6 × 3\n",
       "\n",
       "| age &lt;dbl&gt; | chol &lt;dbl&gt; | target &lt;dbl&gt; |\n",
       "|---|---|---|\n",
       "| 63 | 233 | 1 |\n",
       "| 37 | 250 | 1 |\n",
       "| 41 | 204 | 1 |\n",
       "| 56 | 236 | 1 |\n",
       "| 57 | 354 | 1 |\n",
       "| 57 | 192 | 1 |\n",
       "\n"
      ],
      "text/plain": [
       "  age chol target\n",
       "1 63  233  1     \n",
       "2 37  250  1     \n",
       "3 41  204  1     \n",
       "4 56  236  1     \n",
       "5 57  354  1     \n",
       "6 57  192  1     "
      ]
     },
     "metadata": {},
     "output_type": "display_data"
    }
   ],
   "source": [
    "wrangled_heart_data <- heart_data %>%\n",
    "                       select(age, chol, target)\n",
    "head(wrangled_heart_data)"
   ]
  },
  {
   "cell_type": "code",
   "execution_count": null,
   "metadata": {},
   "outputs": [],
   "source": []
  }
 ],
 "metadata": {
  "kernelspec": {
   "display_name": "R",
   "language": "R",
   "name": "ir"
  },
  "language_info": {
   "codemirror_mode": "r",
   "file_extension": ".r",
   "mimetype": "text/x-r-source",
   "name": "R",
   "pygments_lexer": "r",
   "version": "4.0.0"
  }
 },
 "nbformat": 4,
 "nbformat_minor": 4
}
