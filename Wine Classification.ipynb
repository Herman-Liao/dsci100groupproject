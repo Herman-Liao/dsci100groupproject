{
 "cells": [
  {
   "cell_type": "markdown",
   "metadata": {},
   "source": [
    "# The Classification of Wine Samples"
   ]
  },
  {
   "cell_type": "markdown",
   "metadata": {},
   "source": [
    "### Introduction \n",
    "The question we seek to answer is, can we provide a model to predict the class of wine a sample belongs to based on the ….. Variables selected? \n",
    "\n",
    "The dataset we have selected explores different types of wine, as the samples of wine in the data set are grown in the same Italian region, however used different cultivators to produce the wine.  The different cultivators allow for different classifications of wines, leading to the goal of this project which is to see if we can properly classify types of wine based on predictors.\n",
    "\n",
    "This wine data set uses 13 different variables and aspects of wine such as alcohol content, Malic Acid, Ash, Magnesium, and color intensity to predict the types of wine.  The dataset contains 178 different observations of wine samples grown in the same region; it is a classification problem, as we wish to classify the predicted type of wine.\n"
   ]
  },
  {
   "cell_type": "markdown",
   "metadata": {},
   "source": [
    "### Preliminary exploratory data analysis"
   ]
  },
  {
   "cell_type": "markdown",
   "metadata": {},
   "source": [
    "### Methods"
   ]
  },
  {
   "cell_type": "markdown",
   "metadata": {},
   "source": [
    "### Expected outcomes and significance: \n",
    " What do you expect to find?  We expect to find a correlation between the variables and wine type so that we can accurately assess the observed samples of wine with the correct type. \n",
    " \n",
    "The impact of these findings could be incredibly high, as in British Columbia alone the wine industry contributes an annual /$2.8 billion to the province's economy; the wine industry also covers three sectors, agriculture, manufacturing, and trade.  Consumers are specific on the type of wine they wish to purchase so accurately classifying the types of wine are important to the wine industry. This form of classification looks beyond the BC area as the global wine market in 2020 produced $339.53 billion dollars, so it’s evident how large and essential the wine industry is and how this classification is important in understanding the wine types (for example white wine, red wine and pink wine).\n",
    "\n",
    "What future questions could this lead to?  This classification could lead to a vast possibility of questions such as; are there more than three types of classifications of wine?  Is one type of wine healthier to consume than another? Which type of wine is more sought after and more heavily consumed? It’s evident how large of an industry wine is, so it’s important to continue the classification and research of wine types, and understand the  impact on the global (or provincial) market. \n"
   ]
  },
  {
   "cell_type": "code",
   "execution_count": null,
   "metadata": {},
   "outputs": [],
   "source": []
  }
 ],
 "metadata": {
  "kernelspec": {
   "display_name": "R",
   "language": "R",
   "name": "ir"
  },
  "language_info": {
   "codemirror_mode": "r",
   "file_extension": ".r",
   "mimetype": "text/x-r-source",
   "name": "R",
   "pygments_lexer": "r",
   "version": "4.0.0"
  }
 },
 "nbformat": 4,
 "nbformat_minor": 4
}
