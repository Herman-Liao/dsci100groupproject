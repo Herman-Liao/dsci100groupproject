{
 "cells": [
  {
   "cell_type": "markdown",
   "metadata": {},
   "source": [
    "# The Classification of Wine"
   ]
  },
  {
   "cell_type": "markdown",
   "metadata": {
    "jp-MarkdownHeadingCollapsed": true,
    "tags": []
   },
   "source": [
    "### Introduction \n",
    "\n",
    "Given the chemical properties (specifically, Flavanoid and Color Intensity) of an unknown wine, is it possible to accurately classify the wine's type?\n",
    "\n",
    "We are using the Wine Dataset from UCI Machine Learning Repository (https://archive.ics.uci.edu/ml/datasets/wine). In which different types of wine (Pinot Noir, Merlot, and Cabernet Sauvignon), grown in the same region but using different cultivators, are examined.  The different cultivators allow for different chemical constituents of each type of wine, hence, the goal of this project is to see if we can classify types of wine given chemical predictors.\n",
    "\n",
    "According to Jonathon Betchels (https://jonathonbechtel.com/blog/2018/02/06/wines/), it’s most likely the three classes of wine in the set: 1, 2, and 3 matches with Pinot Noir, Cabernet Sauvignon, and Merlot respectively. This set also contains data on 13 attributes: Alcohol content, Malic Acid, Ash, Magnesium, Total Phenols, Flavanoids, Nonflavanoid Phenols, Proanthocyanins, Color intensity, Hue, OD280/OD315 of diluted wines, Proline. There are 178 different observations of wine samples in this data set."
   ]
  },
  {
   "cell_type": "markdown",
   "metadata": {},
   "source": [
    "### Preliminary exploratory data analysis"
   ]
  },
  {
   "cell_type": "code",
   "execution_count": null,
   "metadata": {
    "tags": []
   },
   "outputs": [],
   "source": [
    "# Install and load necessary packages\n",
    "install.packages(\"GGally\")\n",
    "library(repr)\n",
    "library(tidyverse)\n",
    "library(tidymodels)\n",
    "library(GGally)"
   ]
  },
  {
   "cell_type": "code",
   "execution_count": null,
   "metadata": {},
   "outputs": [],
   "source": [
    "# Set seed and options\n",
    "set.seed(27)\n",
    "options(repr.matrix.max.rows = 15)"
   ]
  },
  {
   "cell_type": "code",
   "execution_count": null,
   "metadata": {
    "tags": []
   },
   "outputs": [],
   "source": [
    "## Read dataset from the web into R\n",
    "wine <- read_csv(\"https://archive.ics.uci.edu/ml/machine-learning-databases/wine/wine.data\", \n",
    "                 col_names = FALSE)\n",
    "head(wine)"
   ]
  },
  {
   "cell_type": "markdown",
   "metadata": {},
   "source": [
    "\n",
    "The first column is our class, and it's currently of type numeric (`<dbl>`). Since we'll be treating class as a categorical variable, we'll convert it to type factor."
   ]
  },
  {
   "cell_type": "code",
   "execution_count": null,
   "metadata": {
    "tags": []
   },
   "outputs": [],
   "source": [
    "## Clean and Wrangle\n",
    "\n",
    "# assign column names\n",
    "colnames(wine) <- c(\"class\", \"alcohol\", \"acid\", \"ash\", \"alcalinity\", \"mg\", \"total_phenol\", \n",
    "                    \"flavanoid\", \"non_f_phenol\", \"proantho\", \"color\", \"hue\", \"od280/od315\", \"proline\")\n",
    "\n",
    "# convert type where applicable\n",
    "wine <- wine %>%\n",
    "        mutate(class = as.factor(class), mg = as.integer(mg), proline = as.integer(proline))\n",
    "\n",
    "# Split wine data into training and testing data\n",
    "wine_split <- initial_split(wine, prop = 0.75, strata = class)\n",
    "wine_training <- training(wine_split)\n",
    "wine_testing <- testing(wine_split)\n",
    "\n",
    "head(wine)"
   ]
  },
  {
   "cell_type": "markdown",
   "metadata": {},
   "source": [
    "After some research and exploratory data analysis, we decided to narrow down to exploring 5 variables that we've seen to be the most relevant to `class`. The 5 variables are: `alcohol`, `flavanoid`, `color`, `hue`, `proline`. "
   ]
  },
  {
   "cell_type": "code",
   "execution_count": null,
   "metadata": {},
   "outputs": [],
   "source": [
    "## Summarization of data\n",
    "options(digits = 4)\n",
    "\n",
    "# create new data set with chosen variables\n",
    "wine_main <- select(wine_training, class, alcohol, flavanoid, color, hue, proline)\n",
    "\n",
    "# create table that summarizes total observations, variables, and missing values of data set\n",
    "total_observations <- nrow(wine_training)\n",
    "total_variables <- ncol(wine_training)\n",
    "total_na <- sum(is.na(wine_training))\n",
    "table1 <- data.frame(total_observations, total_variables, total_na)\n",
    "\n",
    "# create summary table of observations in each class of data set\n",
    "obs_per_class <- wine_training %>%\n",
    "    group_by(class) %>%\n",
    "    summarize(count = n(),\n",
    "    percentage = n() / total_observations * 100)\n",
    "\n",
    "# creat summary table for the means and standard deviation of chosen variables\n",
    "means_of_var <- wine_main %>%\n",
    "    summarize(across(alcohol:proline, mean)) %>%\n",
    "    pivot_longer(cols = alcohol:proline,\n",
    "                 names_to = \"chemical_components\",\n",
    "                 values_to = \"mean\")\n",
    "\n",
    "sd_of_var <- wine_main %>%\n",
    "    select(alcohol:proline) %>%\n",
    "    map_dfr(sd) %>%\n",
    "    pivot_longer(cols = alcohol:proline,\n",
    "                 names_to = \"chemical_components\",\n",
    "                 values_to = \"sd\") %>%\n",
    "    select(sd)\n",
    "\n",
    "summary_tbl <- bind_cols(means_of_var, sd_of_var) %>%\n",
    "    arrange(mean)"
   ]
  },
  {
   "cell_type": "code",
   "execution_count": null,
   "metadata": {},
   "outputs": [],
   "source": [
    "# Number of total observations, variables (including class), and missing values\n",
    "table1"
   ]
  },
  {
   "cell_type": "code",
   "execution_count": null,
   "metadata": {},
   "outputs": [],
   "source": [
    "# Number and percentage of observations in each class\n",
    "obs_per_class"
   ]
  },
  {
   "cell_type": "code",
   "execution_count": null,
   "metadata": {},
   "outputs": [],
   "source": [
    "# Means and SD of chosen variables, arranged in ascending order by mean\n",
    "summary_tbl"
   ]
  },
  {
   "cell_type": "code",
   "execution_count": null,
   "metadata": {},
   "outputs": [],
   "source": [
    "# Visualization using matrix plot to examine each pair of variables in the chosen set\n",
    "options(repr.plot.width = 15, repr.plot.height = 15)\n",
    "ggpairs(wine_main, aes(color = class, alpha = 0.5), title = \"Matrix plot of variables\") +\n",
    "    theme(text = element_text(size = 18))"
   ]
  },
  {
   "cell_type": "markdown",
   "metadata": {},
   "source": [
    "Looking at the matrix plot above (histograms and box plots), it’s apparent the distribution of different wine classes within `flavanoid` and `color` overlaps the least in comparison to other variables. The separation of different classes within a variable makes the classification of wine type clearer as each type would have a more distinct range of values within the variable. Furthermore, in examining the scatter plot of `flavanoid` and `color` it’s evident there is little overplotting of classes' data points, as well as the distribution of different classes are distinct. Hence, we believe `flavanoid` and `color` would be the best predictors for this project."
   ]
  },
  {
   "cell_type": "code",
   "execution_count": null,
   "metadata": {},
   "outputs": [],
   "source": [
    "# Clearer scatter plot of Flavanoid vs Color Intensity \n",
    "options(repr.plot.width = 8, repr.plot.height = 6)\n",
    "plot_flava_color <- ggplot(wine_training, aes(x = flavanoid, y = color, color = class)) +\n",
    "                      geom_point(alpha = 0.5) +\n",
    "                      labs(x = \"Flavanoids\", y = \"Color Intensity\", color = \"Class\") +\n",
    "                      ggtitle(\"Flavanoids vs. Color Intensity\") +\n",
    "                      theme(text = element_text(size = 20))\n",
    "plot_flava_color"
   ]
  },
  {
   "cell_type": "markdown",
   "metadata": {},
   "source": [
    "### Methods\n",
    "With the reasoning given above and further research, we decided to use Flavanoids and Color Intensity as predictors. `class`, `flavanoid`, `color` will be columns used in data analysis \n",
    "\n",
    "This is a classification problem so we use the K-nearest neighbors algorithm. The main library used to perform this algorithm is `tidymodels`.\n",
    "\n",
    "Scatter plots, Line plots, Tables will be used for visualization. Scatter plot could be for visualizing the distribution of class given predictors. Line plots are used when determining K. Tables are used to display results like classifier's accuracy."
   ]
  },
  {
   "cell_type": "markdown",
   "metadata": {},
   "source": [
    "### Expected outcomes and significance\n",
    "We expect to find the most relevant class for an unknown wine type given its chemical analysis. We hope that our model's accuracy could fall above 85%.\n",
    "\n",
    "The impact of these findings are significant, as within British Columbia the wine industry contributes an annual 2.8 billion dollars, and 339.53 billion globally. Consumers are specific on the type of wine they wish to purchase so accurately classifying the types of wine are important to the wine industry. \n",
    "\n",
    "This classification could lead to a vast possibility of questions such as: Is one type of wine healthier to consume than another? Which type of wine is more sought after and more heavily consumed?\n",
    "\n",
    "\n"
   ]
  }
 ],
 "metadata": {
  "kernelspec": {
   "display_name": "R",
   "language": "R",
   "name": "ir"
  },
  "language_info": {
   "codemirror_mode": "r",
   "file_extension": ".r",
   "mimetype": "text/x-r-source",
   "name": "R",
   "pygments_lexer": "r",
   "version": "4.0.0"
  }
 },
 "nbformat": 4,
 "nbformat_minor": 4
}
